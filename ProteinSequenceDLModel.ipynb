{
 "cells": [
  {
   "cell_type": "code",
   "execution_count": 1,
   "metadata": {
    "execution": {
     "iopub.execute_input": "2024-03-14T12:27:40.889092Z",
     "iopub.status.busy": "2024-03-14T12:27:40.888731Z",
     "iopub.status.idle": "2024-03-14T12:27:55.542580Z",
     "shell.execute_reply": "2024-03-14T12:27:55.541576Z",
     "shell.execute_reply.started": "2024-03-14T12:27:40.889062Z"
    }
   },
   "outputs": [],
   "source": [
    "!pip install -q captum"
   ]
  },
  {
   "cell_type": "markdown",
   "metadata": {},
   "source": [
    "# Imports "
   ]
  },
  {
   "cell_type": "code",
   "execution_count": 2,
   "metadata": {
    "_cell_guid": "b1076dfc-b9ad-4769-8c92-a6c4dae69d19",
    "_uuid": "8f2839f25d086af736a60e9eeb907d3b93b6e0e5",
    "execution": {
     "iopub.execute_input": "2024-03-14T12:27:55.544797Z",
     "iopub.status.busy": "2024-03-14T12:27:55.544455Z",
     "iopub.status.idle": "2024-03-14T12:28:01.960277Z",
     "shell.execute_reply": "2024-03-14T12:28:01.959486Z",
     "shell.execute_reply.started": "2024-03-14T12:27:55.544765Z"
    }
   },
   "outputs": [],
   "source": [
    "import pandas as pd\n",
    "\n",
    "from tqdm.notebook import tqdm,trange\n",
    "\n",
    "import random\n",
    "import numpy as np\n",
    "import os\n",
    "\n",
    "from sklearn.model_selection import StratifiedGroupKFold\n",
    "from sklearn.metrics import accuracy_score\n",
    "from torch.utils.data import DataLoader, Dataset\n",
    "\n",
    "import torch\n",
    "import torch.nn as nn\n",
    "import torch.nn.functional as F\n",
    "from transformers import AdamW\n",
    "\n",
    "\n",
    "import matplotlib.pyplot as plt\n",
    "import seaborn as sns\n",
    "from sklearn.metrics import accuracy_score, confusion_matrix , classification_report "
   ]
  },
  {
   "cell_type": "markdown",
   "metadata": {},
   "source": [
    "# Config Setup"
   ]
  },
  {
   "cell_type": "code",
   "execution_count": 3,
   "metadata": {
    "execution": {
     "iopub.execute_input": "2024-03-14T12:28:01.961784Z",
     "iopub.status.busy": "2024-03-14T12:28:01.961400Z",
     "iopub.status.idle": "2024-03-14T12:28:02.150571Z",
     "shell.execute_reply": "2024-03-14T12:28:02.149766Z",
     "shell.execute_reply.started": "2024-03-14T12:28:01.961758Z"
    }
   },
   "outputs": [],
   "source": [
    "class config:\n",
    "    SEED = 12\n",
    "    VAL_SIZE = 0.2\n",
    "    TRAIN = True\n",
    "    EVALUATE = True\n",
    "    INPUT_DIR = \"/kaggle/input/comp-data/\"\n",
    "    DENSE_DIM = 2048\n",
    "    MAX_SEQ_LEN = 1024\n",
    "    BATCH_SIZE = 64\n",
    "    NUM_WORKERS = 4\n",
    "    ACC_STEPS = 1\n",
    "    EPOCHS = 10\n",
    "    LR = 0.002\n",
    "    FOLDS = 5\n",
    "    GPU = torch.cuda.is_available()\n",
    "    SAVE_DIR = \"\"\n",
    "    MODEL_SAVE_PATH =  \"model.bin\"\n",
    "\n",
    "\n",
    "def seed_everything(seed):\n",
    "    random.seed(seed)\n",
    "    os.environ['PYTHONHASHSEED'] = str(seed)\n",
    "    np.random.seed(seed)\n",
    "    torch.manual_seed(seed)\n",
    "    torch.cuda.manual_seed(seed)\n",
    "    torch.backends.cudnn.deterministic = True\n",
    "\n",
    "seed_everything(seed = config.SEED)"
   ]
  },
  {
   "cell_type": "markdown",
   "metadata": {},
   "source": [
    "# Data Loading"
   ]
  },
  {
   "cell_type": "code",
   "execution_count": 5,
   "metadata": {
    "execution": {
     "iopub.execute_input": "2024-03-14T12:28:24.405227Z",
     "iopub.status.busy": "2024-03-14T12:28:24.402514Z",
     "iopub.status.idle": "2024-03-14T12:28:24.444845Z",
     "shell.execute_reply": "2024-03-14T12:28:24.443776Z",
     "shell.execute_reply.started": "2024-03-14T12:28:24.405195Z"
    }
   },
   "outputs": [
    {
     "data": {
      "text/html": [
       "<div>\n",
       "<style scoped>\n",
       "    .dataframe tbody tr th:only-of-type {\n",
       "        vertical-align: middle;\n",
       "    }\n",
       "\n",
       "    .dataframe tbody tr th {\n",
       "        vertical-align: top;\n",
       "    }\n",
       "\n",
       "    .dataframe thead th {\n",
       "        text-align: right;\n",
       "    }\n",
       "</style>\n",
       "<table border=\"1\" class=\"dataframe\">\n",
       "  <thead>\n",
       "    <tr style=\"text-align: right;\">\n",
       "      <th></th>\n",
       "      <th>PDB_ID</th>\n",
       "      <th>SEC_STRUCT</th>\n",
       "    </tr>\n",
       "  </thead>\n",
       "  <tbody>\n",
       "    <tr>\n",
       "      <th>0</th>\n",
       "      <td>1VBK_1_A</td>\n",
       "      <td>CCEEEEEECCCCCCCCCCHHHHHHHHHHHHHHHHHHCCCCCCEEEE...</td>\n",
       "    </tr>\n",
       "    <tr>\n",
       "      <th>1</th>\n",
       "      <td>1QGV_1_A</td>\n",
       "      <td>CCCCCCECCCHHHHHHHHHCCCCCEEEEEEECCCCHHHHHHHHHHH...</td>\n",
       "    </tr>\n",
       "    <tr>\n",
       "      <th>2</th>\n",
       "      <td>1KX6_1_A</td>\n",
       "      <td>CCCCCCCCCCCCCCCCCCCCCCHHHHCCC</td>\n",
       "    </tr>\n",
       "    <tr>\n",
       "      <th>3</th>\n",
       "      <td>1V88_1_A</td>\n",
       "      <td>CCCCCCCCCEEEEEEECCCCCCCEEEEEEEECCEEEEECCCCCCCC...</td>\n",
       "    </tr>\n",
       "    <tr>\n",
       "      <th>4</th>\n",
       "      <td>1ZY8_2_K</td>\n",
       "      <td>CCCCCCCCCCCCCCCCCCCCCCCCCCCCCCCCCCCCCCCCCCCCCC...</td>\n",
       "    </tr>\n",
       "  </tbody>\n",
       "</table>\n",
       "</div>"
      ],
      "text/plain": [
       "     PDB_ID                                         SEC_STRUCT\n",
       "0  1VBK_1_A  CCEEEEEECCCCCCCCCCHHHHHHHHHHHHHHHHHHCCCCCCEEEE...\n",
       "1  1QGV_1_A  CCCCCCECCCHHHHHHHHHCCCCCEEEEEEECCCCHHHHHHHHHHH...\n",
       "2  1KX6_1_A                      CCCCCCCCCCCCCCCCCCCCCCHHHHCCC\n",
       "3  1V88_1_A  CCCCCCCCCEEEEEEECCCCCCCEEEEEEEECCEEEEECCCCCCCC...\n",
       "4  1ZY8_2_K  CCCCCCCCCCCCCCCCCCCCCCCCCCCCCCCCCCCCCCCCCCCCCC..."
      ]
     },
     "execution_count": 5,
     "metadata": {},
     "output_type": "execute_result"
    }
   ],
   "source": [
    "target_map = {\n",
    "    \"C\": 0,\n",
    "    \"E\": 1,\n",
    "    \"H\": 2,\n",
    "}\n",
    "\n",
    "\n",
    "reverse_target_map = {\n",
    "    0: \"C\",\n",
    "    1: \"E\",\n",
    "    2: \"H\",\n",
    "}\n",
    "\n",
    "FEATURES  = ['A', 'C', 'D', 'E', 'F', 'G', 'H', 'I', 'K','L', 'M', 'N', 'P', 'Q', 'R', 'S', 'T', 'V', 'W', 'Y']\n",
    "data = pd.read_csv(\"/kaggle/input/deep-learning-for-msc-202324/labels_train.csv\")\n",
    "data.head()"
   ]
  },
  {
   "cell_type": "markdown",
   "metadata": {},
   "source": [
    "# Data Processing"
   ]
  },
  {
   "cell_type": "code",
   "execution_count": 6,
   "metadata": {
    "execution": {
     "iopub.execute_input": "2024-03-14T12:28:32.159684Z",
     "iopub.status.busy": "2024-03-14T12:28:32.158857Z",
     "iopub.status.idle": "2024-03-14T12:32:17.591379Z",
     "shell.execute_reply": "2024-03-14T12:32:17.590560Z",
     "shell.execute_reply.started": "2024-03-14T12:28:32.159650Z"
    }
   },
   "outputs": [
    {
     "data": {
      "application/vnd.jupyter.widget-view+json": {
       "model_id": "446890d824e6450e9c0f15b8d1190218",
       "version_major": 2,
       "version_minor": 0
      },
      "text/plain": [
       "  0%|          | 0/7150 [00:00<?, ?it/s]"
      ]
     },
     "metadata": {},
     "output_type": "display_data"
    },
    {
     "data": {
      "application/vnd.jupyter.widget-view+json": {
       "model_id": "eb8ef4594895411da79ac458ffa1ebe1",
       "version_major": 2,
       "version_minor": 0
      },
      "text/plain": [
       "  0%|          | 0/205 [00:00<?, ?it/s]"
      ]
     },
     "metadata": {},
     "output_type": "display_data"
    }
   ],
   "source": [
    "main_df_rows = []  \n",
    " \n",
    "for i in trange(len(data)):\n",
    "    row = data.iloc[i]\n",
    "    targets = list(row[\"SEC_STRUCT\"])\n",
    "    path = f\"/kaggle/input/deep-learning-for-msc-202324/train/{row['PDB_ID']}_train.csv\"\n",
    "    file = pd.read_csv(path)\n",
    "    inputs = file[FEATURES].copy()  \n",
    "    inputs[\"targets\"] = targets\n",
    "    inputs[\"targets\"] = inputs[\"targets\"].map(target_map)\n",
    "    inputs[\"PDB_ID\"] = row[\"PDB_ID\"]\n",
    "    \n",
    "\n",
    "    for _, input_row in inputs.iterrows():\n",
    "        main_df_rows.append(input_row.to_dict())\n",
    "\n",
    "\n",
    "main_df = pd.DataFrame(main_df_rows)\n",
    "\n",
    "main_test_df_rows = []  \n",
    "test = pd.read_csv(\"/kaggle/input/deep-learning-for-msc-202324/seqs_test.csv\")\n",
    "test = test.rename(columns = {0: \"PDB_ID\", 1: \"SEQUENCE\"})\n",
    "\n",
    "for i in trange(len(test)):\n",
    "    row = test.iloc[i]\n",
    "    path = f\"/kaggle/input/deep-learning-for-msc-202324/test/{row['PDB_ID']}_test.csv\"\n",
    "    file = pd.read_csv(path)\n",
    "    inputs = file[FEATURES].copy()\n",
    "    inputs[\"PDB_ID\"] = row[\"PDB_ID\"]\n",
    "    inputs[\"ID\"] = [f\"{row['PDB_ID']}_{ids}\" for ids in file[\"RES_NUM\"]]\n",
    "    \n",
    "    for _, input_row in inputs.iterrows():\n",
    "        main_test_df_rows.append(input_row.to_dict())\n",
    "\n",
    "main_test_df = pd.DataFrame(main_test_df_rows)"
   ]
  },
  {
   "cell_type": "markdown",
   "metadata": {},
   "source": [
    "#  Train-Validation Data Split"
   ]
  },
  {
   "cell_type": "code",
   "execution_count": 6,
   "metadata": {
    "execution": {
     "iopub.execute_input": "2024-03-13T15:19:30.177014Z",
     "iopub.status.busy": "2024-03-13T15:19:30.176743Z",
     "iopub.status.idle": "2024-03-13T15:19:38.123006Z",
     "shell.execute_reply": "2024-03-13T15:19:38.121997Z",
     "shell.execute_reply.started": "2024-03-13T15:19:30.176991Z"
    }
   },
   "outputs": [
    {
     "name": "stdout",
     "output_type": "stream",
     "text": [
      "Datapoints in Train Set =  1289891\n",
      "Datapoints in Validation Set =  308042\n"
     ]
    }
   ],
   "source": [
    "skf = StratifiedGroupKFold(n_splits=config.FOLDS , shuffle=True, random_state=config.SEED)\n",
    "for fold, (train_idx, valid_idx) in enumerate(skf.split(main_df[FEATURES], main_df[\"targets\"], main_df[\"PDB_ID\"])):\n",
    "    break\n",
    "\n",
    "train_df = main_df.iloc[train_idx]\n",
    "val_df = main_df.iloc[valid_idx]\n",
    "\n",
    "\n",
    "print(\"Datapoints in Train Set = \", len(train_df))\n",
    "print(\"Datapoints in Validation Set = \", len(val_df))"
   ]
  },
  {
   "cell_type": "markdown",
   "metadata": {},
   "source": [
    "# Pytorch Data Loader"
   ]
  },
  {
   "cell_type": "code",
   "execution_count": 7,
   "metadata": {
    "execution": {
     "iopub.execute_input": "2024-03-13T15:19:38.124656Z",
     "iopub.status.busy": "2024-03-13T15:19:38.124282Z",
     "iopub.status.idle": "2024-03-13T15:19:38.137434Z",
     "shell.execute_reply": "2024-03-13T15:19:38.136322Z",
     "shell.execute_reply.started": "2024-03-13T15:19:38.124627Z"
    }
   },
   "outputs": [],
   "source": [
    "def pad_and_truncate(data, is_test,max_len = config.MAX_SEQ_LEN):\n",
    "    current_len = len(data)\n",
    "    pdb_id = data['PDB_ID'].iloc[0] if not data.empty else \"Unknown\"\n",
    "    \n",
    "    if current_len < max_len:\n",
    "        pad_rows = max_len - current_len\n",
    "        pad_df = pd.DataFrame(-1, index=range(pad_rows), columns=FEATURES)\n",
    "        pad_df['PDB_ID'] = pdb_id\n",
    "        if not is_test: \n",
    "            pad_df['targets'] = -1\n",
    "\n",
    "        data = pd.concat([data, pad_df], ignore_index=True)\n",
    "    elif current_len > max_len:\n",
    "        data = data.iloc[:max_len]\n",
    "    \n",
    "    return data\n",
    "\n",
    "\n",
    "class CustomDataset(Dataset):\n",
    "    def __init__(self,df, is_test = False):\n",
    "        super().__init__()\n",
    "\n",
    "        self.df = df.reset_index(drop = True).groupby(\"PDB_ID\")      \n",
    "        self.group_keys = list(self.df.groups.keys())\n",
    "        self.is_test = is_test\n",
    "\n",
    "    def __getitem__(self, idx):\n",
    "        group_key = self.group_keys[int(idx)]\n",
    "        data = self.df.get_group(group_key)\n",
    "\n",
    "        data = pad_and_truncate(data, is_test = self.is_test)\n",
    "        inputs = data[FEATURES].values\n",
    "        \n",
    "        inputs = torch.tensor(inputs, dtype = torch.float32)\n",
    "        if not self.is_test:\n",
    "            targets = data[\"targets\"].values\n",
    "            targets = torch.tensor(targets, dtype = torch.long)\n",
    "            return inputs, targets\n",
    "        else:\n",
    "            return inputs\n",
    "        \n",
    "    def __len__(self):\n",
    "        return len(self.group_keys)\n"
   ]
  },
  {
   "cell_type": "markdown",
   "metadata": {},
   "source": [
    "# Dataloaders "
   ]
  },
  {
   "cell_type": "code",
   "execution_count": 8,
   "metadata": {
    "execution": {
     "iopub.execute_input": "2024-03-13T15:19:38.139292Z",
     "iopub.status.busy": "2024-03-13T15:19:38.138925Z",
     "iopub.status.idle": "2024-03-13T15:19:38.534488Z",
     "shell.execute_reply": "2024-03-13T15:19:38.533662Z",
     "shell.execute_reply.started": "2024-03-13T15:19:38.139255Z"
    }
   },
   "outputs": [],
   "source": [
    "train_ds = CustomDataset(train_df)\n",
    "val_ds = CustomDataset(val_df)\n",
    "test_ds = CustomDataset(main_test_df, is_test = True)\n",
    "\n",
    "train_loader = DataLoader(train_ds, \n",
    "                          batch_size=config.BATCH_SIZE, \n",
    "                          shuffle=True, \n",
    "                          num_workers=config.NUM_WORKERS,\n",
    "                          pin_memory=False, \n",
    "                          drop_last=True)\n",
    "val_loader = DataLoader(val_ds, \n",
    "                          batch_size=config.BATCH_SIZE, \n",
    "                          shuffle=True, \n",
    "                          num_workers=config.NUM_WORKERS,\n",
    "                          pin_memory=False, \n",
    "                          drop_last=False)\n",
    "test_loader = DataLoader(test_ds, \n",
    "                        batch_size= config.BATCH_SIZE,\n",
    "                        shuffle=False, \n",
    "                        num_workers=config.NUM_WORKERS,\n",
    "                        pin_memory=False, \n",
    "                        drop_last=False)"
   ]
  },
  {
   "cell_type": "markdown",
   "metadata": {},
   "source": [
    "# Model"
   ]
  },
  {
   "cell_type": "code",
   "execution_count": 9,
   "metadata": {
    "execution": {
     "iopub.execute_input": "2024-03-13T15:19:38.536079Z",
     "iopub.status.busy": "2024-03-13T15:19:38.535748Z",
     "iopub.status.idle": "2024-03-13T15:19:38.548988Z",
     "shell.execute_reply": "2024-03-13T15:19:38.547696Z",
     "shell.execute_reply.started": "2024-03-13T15:19:38.536050Z"
    }
   },
   "outputs": [],
   "source": [
    "class ProteinSeqUNet(nn.Module):\n",
    "    def __init__(self):\n",
    "        super(ProteinSeqUNet, self).__init__()\n",
    "        self.conv1 = nn.Conv2d(1, 64, kernel_size=(5, 5), stride=1, padding=2)\n",
    "        self.conv2 = nn.Conv2d(64, 128, kernel_size=(5, 5), stride=1, padding=2)\n",
    "        self.conv3 = nn.Conv2d(128, 256, kernel_size=(5, 5), stride=1, padding=2)\n",
    "        \n",
    "        self.bottleneck = nn.Sequential(\n",
    "            nn.Conv2d(256, 256, kernel_size=(3, 3), stride=1, padding=1),\n",
    "            nn.ReLU(),\n",
    "            nn.Conv2d(256, 256, kernel_size=(3, 3), stride=1, padding=1),\n",
    "            nn.ReLU()\n",
    "        )\n",
    "\n",
    "        self.upconv1 = nn.ConvTranspose2d(256, 128, kernel_size=(5, 5), stride=1, padding=2)\n",
    "        self.upconv2 = nn.ConvTranspose2d(128, 64, kernel_size=(5, 5), stride=1, padding=2)\n",
    "        self.upconv3 = nn.ConvTranspose2d(64, 3, kernel_size=(1, 1), stride=1)\n",
    "\n",
    "    def forward(self, x):\n",
    "        x = x.unsqueeze(1)\n",
    "\n",
    "        # Encoder\n",
    "        x1 = F.relu(self.conv1(x))\n",
    "        x2 = F.relu(self.conv2(x1))\n",
    "        x3 = F.relu(self.conv3(x2))\n",
    "        \n",
    "        x = self.bottleneck(x3)\n",
    "\n",
    "        x = F.relu(self.upconv1(x3)) + x2  \n",
    "        x = F.relu(self.upconv2(x)) + x1  \n",
    "        x = self.upconv3(x)  \n",
    "\n",
    "        x = torch.mean(x, dim=-1)\n",
    "\n",
    "        return x\n"
   ]
  },
  {
   "cell_type": "markdown",
   "metadata": {},
   "source": [
    "# Training Utilities"
   ]
  },
  {
   "cell_type": "code",
   "execution_count": 10,
   "metadata": {
    "execution": {
     "iopub.execute_input": "2024-03-13T15:19:38.550916Z",
     "iopub.status.busy": "2024-03-13T15:19:38.550432Z",
     "iopub.status.idle": "2024-03-13T15:19:38.573274Z",
     "shell.execute_reply": "2024-03-13T15:19:38.572292Z",
     "shell.execute_reply.started": "2024-03-13T15:19:38.550877Z"
    }
   },
   "outputs": [],
   "source": [
    "def read_data(data):\n",
    "    \"\"\"\n",
    "    Function to read data\n",
    "    \"\"\"\n",
    "    if config.GPU:\n",
    "        return (data[0].to(\"cuda\"), data[1].to(\"cuda\"))\n",
    "    else:\n",
    "        return (data[0], data[1])\n",
    "    \n",
    "    \n",
    "def compute_accuracy(outputs, targets):\n",
    "    mask = targets != -1\n",
    "    _, preds = torch.max(outputs, dim=1)  \n",
    "    corrects = (preds == targets) & mask  \n",
    "    accuracy = corrects.sum().float() / mask.sum().float() \n",
    "    return accuracy.item()\n",
    "\n",
    "\n",
    "def train(model, train_loader, val_loader, config):\n",
    "    param_optimizer = list(model.named_parameters())\n",
    "    no_decay = ['bias', 'LayerNorm.bias', 'LayerNorm.weight']\n",
    "    optimizer_grouped_parameters = [\n",
    "        {'params': [p for n, p in param_optimizer if not any(nd in n for nd in no_decay)], 'weight_decay': 0.01},\n",
    "        {'params': [p for n, p in param_optimizer if any(nd in n for nd in no_decay)], 'weight_decay': 0.0}\n",
    "    ]\n",
    "    \n",
    "    loss = nn.CrossEntropyLoss(ignore_index=-1)\n",
    "    optimizer = torch.optim.AdamW(optimizer_grouped_parameters, lr=config.LR)\n",
    "    #optimizer = torch.optim.Adam(model.parameters(), lr =config.LR)\n",
    "    train_losses, train_accuracies, val_losses, val_accuracies = [], [], [], []\n",
    "    y_preds, y_labels = [], []\n",
    "\n",
    "    for epoch in range(config.EPOCHS):\n",
    "        model.train()\n",
    "        train_loss, train_corrects, train_samples = 0.0, 0, 0\n",
    "        \n",
    "        with tqdm(train_loader, desc=f'Epoch {epoch+1}/{config.EPOCHS}', unit='batch') as tepoch:\n",
    "            for (idx,data) in enumerate(tepoch):\n",
    "                inputs, targets = read_data(data)\n",
    "                optimizer.zero_grad()\n",
    "                outputs = model(inputs)\n",
    "                loss_value = loss(outputs, targets)\n",
    "                loss_value.backward()\n",
    "                optimizer.step()\n",
    "\n",
    "                train_loss += loss_value.item()\n",
    "                train_accuracy = compute_accuracy(outputs, targets)\n",
    "                train_corrects += train_accuracy * targets[targets != -1].size(0)\n",
    "                train_samples += targets[targets != -1].size(0)\n",
    "                \n",
    "                tepoch.set_postfix(loss=f'{(train_loss/(idx+1)):.2f}', accuracy=f'{(train_corrects / train_samples) * 100:.2f}%')\n",
    "\n",
    "        epoch_train_loss = train_loss / len(train_loader)\n",
    "        epoch_train_accuracy = train_corrects / train_samples\n",
    "        train_losses.append(epoch_train_loss)\n",
    "        train_accuracies.append(epoch_train_accuracy)\n",
    "\n",
    "        model.eval()\n",
    "        val_loss, val_corrects, val_samples = 0.0, 0, 0\n",
    "        with torch.no_grad():\n",
    "            for data in val_loader:\n",
    "                inputs, targets = read_data(data)\n",
    "                outputs = model(inputs)\n",
    "                loss_value = loss(outputs, targets)\n",
    "                val_loss += loss_value.item()\n",
    "\n",
    "                val_accuracy = compute_accuracy(outputs, targets)\n",
    "                val_corrects += val_accuracy * targets[targets != -1].size(0)\n",
    "                val_samples += targets[targets != -1].size(0)\n",
    "\n",
    "                if epoch == config.EPOCHS - 1:\n",
    "                    y_preds.extend(outputs.cpu().numpy())\n",
    "                    y_labels.extend(targets.cpu().numpy())\n",
    "\n",
    "        epoch_val_loss = val_loss / len(val_loader)\n",
    "        epoch_val_accuracy = val_corrects / val_samples\n",
    "        val_losses.append(epoch_val_loss)\n",
    "        val_accuracies.append(epoch_val_accuracy)\n",
    "\n",
    "        print(f'Epoch {epoch+1}, Train Loss: {epoch_train_loss:.2f}, Train Accuracy: {epoch_train_accuracy * 100:.2f}%, '\n",
    "              f'Validation Loss: {epoch_val_loss:.2f}, Validation Accuracy: {epoch_val_accuracy * 100:.2f}%')\n",
    "\n",
    "    metrics = [train_losses, train_accuracies, val_losses, val_accuracies]\n",
    "    return model, metrics, np.array(y_preds), np.array(y_labels)"
   ]
  },
  {
   "cell_type": "code",
   "execution_count": 11,
   "metadata": {
    "execution": {
     "iopub.execute_input": "2024-03-13T15:19:38.574750Z",
     "iopub.status.busy": "2024-03-13T15:19:38.574470Z",
     "iopub.status.idle": "2024-03-13T15:42:37.986392Z",
     "shell.execute_reply": "2024-03-13T15:42:37.984977Z",
     "shell.execute_reply.started": "2024-03-13T15:19:38.574726Z"
    }
   },
   "outputs": [
    {
     "data": {
      "application/vnd.jupyter.widget-view+json": {
       "model_id": "506d2ec9dc9e450ab60e2a43a4ab35ec",
       "version_major": 2,
       "version_minor": 0
      },
      "text/plain": [
       "Epoch 1/10:   0%|          | 0/89 [00:00<?, ?batch/s]"
      ]
     },
     "metadata": {},
     "output_type": "display_data"
    },
    {
     "name": "stdout",
     "output_type": "stream",
     "text": [
      "Epoch 1, Train Loss: 1.41, Train Accuracy: 42.22%, Validation Loss: 1.05, Validation Accuracy: 44.30%\n"
     ]
    },
    {
     "data": {
      "application/vnd.jupyter.widget-view+json": {
       "model_id": "cc505c1282904f70aeb1af63f5bd0dc6",
       "version_major": 2,
       "version_minor": 0
      },
      "text/plain": [
       "Epoch 2/10:   0%|          | 0/89 [00:00<?, ?batch/s]"
      ]
     },
     "metadata": {},
     "output_type": "display_data"
    },
    {
     "name": "stdout",
     "output_type": "stream",
     "text": [
      "Epoch 2, Train Loss: 1.05, Train Accuracy: 44.36%, Validation Loss: 1.05, Validation Accuracy: 44.30%\n"
     ]
    },
    {
     "data": {
      "application/vnd.jupyter.widget-view+json": {
       "model_id": "5c3bd3afb87c4e63af77b77522284504",
       "version_major": 2,
       "version_minor": 0
      },
      "text/plain": [
       "Epoch 3/10:   0%|          | 0/89 [00:00<?, ?batch/s]"
      ]
     },
     "metadata": {},
     "output_type": "display_data"
    },
    {
     "name": "stdout",
     "output_type": "stream",
     "text": [
      "Epoch 3, Train Loss: 1.05, Train Accuracy: 44.36%, Validation Loss: 1.05, Validation Accuracy: 44.30%\n"
     ]
    },
    {
     "data": {
      "application/vnd.jupyter.widget-view+json": {
       "model_id": "a977dbb59cca4a7898263b7086185486",
       "version_major": 2,
       "version_minor": 0
      },
      "text/plain": [
       "Epoch 4/10:   0%|          | 0/89 [00:00<?, ?batch/s]"
      ]
     },
     "metadata": {},
     "output_type": "display_data"
    },
    {
     "name": "stdout",
     "output_type": "stream",
     "text": [
      "Epoch 4, Train Loss: 1.04, Train Accuracy: 44.39%, Validation Loss: 1.04, Validation Accuracy: 44.30%\n"
     ]
    },
    {
     "data": {
      "application/vnd.jupyter.widget-view+json": {
       "model_id": "fa5838fa60284839ad95a6f2b8d4362c",
       "version_major": 2,
       "version_minor": 0
      },
      "text/plain": [
       "Epoch 5/10:   0%|          | 0/89 [00:00<?, ?batch/s]"
      ]
     },
     "metadata": {},
     "output_type": "display_data"
    },
    {
     "name": "stdout",
     "output_type": "stream",
     "text": [
      "Epoch 5, Train Loss: 1.04, Train Accuracy: 44.55%, Validation Loss: 1.04, Validation Accuracy: 44.32%\n"
     ]
    },
    {
     "data": {
      "application/vnd.jupyter.widget-view+json": {
       "model_id": "e99f1d56594942ee892ac6f1de991133",
       "version_major": 2,
       "version_minor": 0
      },
      "text/plain": [
       "Epoch 6/10:   0%|          | 0/89 [00:00<?, ?batch/s]"
      ]
     },
     "metadata": {},
     "output_type": "display_data"
    },
    {
     "name": "stdout",
     "output_type": "stream",
     "text": [
      "Epoch 6, Train Loss: 0.99, Train Accuracy: 47.94%, Validation Loss: 0.93, Validation Accuracy: 52.96%\n"
     ]
    },
    {
     "data": {
      "application/vnd.jupyter.widget-view+json": {
       "model_id": "09d9665a4c524789bf5c4732cccce60c",
       "version_major": 2,
       "version_minor": 0
      },
      "text/plain": [
       "Epoch 7/10:   0%|          | 0/89 [00:00<?, ?batch/s]"
      ]
     },
     "metadata": {},
     "output_type": "display_data"
    },
    {
     "name": "stdout",
     "output_type": "stream",
     "text": [
      "Epoch 7, Train Loss: 0.91, Train Accuracy: 54.68%, Validation Loss: 0.90, Validation Accuracy: 56.18%\n"
     ]
    },
    {
     "data": {
      "application/vnd.jupyter.widget-view+json": {
       "model_id": "a86cf612ea674ecfbad6e9f771506486",
       "version_major": 2,
       "version_minor": 0
      },
      "text/plain": [
       "Epoch 8/10:   0%|          | 0/89 [00:00<?, ?batch/s]"
      ]
     },
     "metadata": {},
     "output_type": "display_data"
    },
    {
     "name": "stdout",
     "output_type": "stream",
     "text": [
      "Epoch 8, Train Loss: 0.88, Train Accuracy: 57.20%, Validation Loss: 0.84, Validation Accuracy: 60.40%\n"
     ]
    },
    {
     "data": {
      "application/vnd.jupyter.widget-view+json": {
       "model_id": "b6db6a7ade6941e7ade8c26d237fb351",
       "version_major": 2,
       "version_minor": 0
      },
      "text/plain": [
       "Epoch 9/10:   0%|          | 0/89 [00:00<?, ?batch/s]"
      ]
     },
     "metadata": {},
     "output_type": "display_data"
    },
    {
     "name": "stdout",
     "output_type": "stream",
     "text": [
      "Epoch 9, Train Loss: 0.83, Train Accuracy: 61.60%, Validation Loss: 0.83, Validation Accuracy: 62.67%\n"
     ]
    },
    {
     "data": {
      "application/vnd.jupyter.widget-view+json": {
       "model_id": "7817e46d95bc4b33a850969fd63d9827",
       "version_major": 2,
       "version_minor": 0
      },
      "text/plain": [
       "Epoch 10/10:   0%|          | 0/89 [00:00<?, ?batch/s]"
      ]
     },
     "metadata": {},
     "output_type": "display_data"
    },
    {
     "name": "stdout",
     "output_type": "stream",
     "text": [
      "Epoch 10, Train Loss: 0.78, Train Accuracy: 65.15%, Validation Loss: 0.78, Validation Accuracy: 64.93%\n"
     ]
    }
   ],
   "source": [
    "model = ProteinSeqUNet()\n",
    "\n",
    "if config.GPU:\n",
    "    model = model.to(\"cuda\")\n",
    "\n",
    "if config.TRAIN:\n",
    "    model, metrics, y_preds, y_labels = train(model, train_loader, val_loader, config)"
   ]
  },
  {
   "cell_type": "code",
   "execution_count": 12,
   "metadata": {
    "execution": {
     "iopub.execute_input": "2024-03-13T15:42:37.990822Z",
     "iopub.status.busy": "2024-03-13T15:42:37.990046Z",
     "iopub.status.idle": "2024-03-13T15:42:38.041150Z",
     "shell.execute_reply": "2024-03-13T15:42:38.040305Z",
     "shell.execute_reply.started": "2024-03-13T15:42:37.990791Z"
    }
   },
   "outputs": [],
   "source": [
    "def process_labels(y_labels, y_preds):\n",
    "    y_labels = y_labels.flatten()\n",
    "    y_preds = y_preds.argmax(1).flatten()\n",
    "    mask = y_labels!= -1\n",
    "    y_preds_unmasked = y_preds[mask]\n",
    "    y_labels_unmasked = y_labels[mask]\n",
    "    return y_labels_unmasked, y_preds_unmasked\n",
    "\n",
    "y_labels, y_preds = process_labels(y_labels, y_preds)"
   ]
  },
  {
   "cell_type": "code",
   "execution_count": 13,
   "metadata": {
    "execution": {
     "iopub.execute_input": "2024-03-13T15:42:38.042580Z",
     "iopub.status.busy": "2024-03-13T15:42:38.042277Z",
     "iopub.status.idle": "2024-03-13T15:42:38.122063Z",
     "shell.execute_reply": "2024-03-13T15:42:38.121067Z",
     "shell.execute_reply.started": "2024-03-13T15:42:38.042554Z"
    }
   },
   "outputs": [],
   "source": [
    "from captum.attr import IntegratedGradients\n",
    "from captum.attr import LayerConductance\n",
    "from captum.attr import NeuronConductance"
   ]
  },
  {
   "cell_type": "code",
   "execution_count": 14,
   "metadata": {
    "execution": {
     "iopub.execute_input": "2024-03-13T15:42:38.123529Z",
     "iopub.status.busy": "2024-03-13T15:42:38.123250Z",
     "iopub.status.idle": "2024-03-13T15:42:38.129268Z",
     "shell.execute_reply": "2024-03-13T15:42:38.128157Z",
     "shell.execute_reply.started": "2024-03-13T15:42:38.123505Z"
    }
   },
   "outputs": [],
   "source": [
    "#ig = IntegratedGradients(model)\n",
    "\n",
    "def aggregate_predictions(inp):\n",
    "    \"\"\"\n",
    "    Assumes model output has shape (batch_size, num_classes, sequence_length)\n",
    "    and computes the mean score for each class across all sequences in the batch.\n",
    "    \"\"\"\n",
    "    # Apply the model to the input batch\n",
    "    output = model(inp)\n",
    "    \n",
    "    # Compute the mean score for each class across all sequences\n",
    "    # This assumes the last dimension is the sequence length\n",
    "    aggregated_output = output.mean(dim=-1)\n",
    "    \n",
    "    return aggregated_output\n",
    "\n",
    "\n",
    "ig = IntegratedGradients(aggregate_predictions)"
   ]
  },
  {
   "cell_type": "code",
   "execution_count": 15,
   "metadata": {
    "execution": {
     "iopub.execute_input": "2024-03-13T15:42:38.131050Z",
     "iopub.status.busy": "2024-03-13T15:42:38.130671Z",
     "iopub.status.idle": "2024-03-13T15:42:38.994965Z",
     "shell.execute_reply": "2024-03-13T15:42:38.993677Z",
     "shell.execute_reply.started": "2024-03-13T15:42:38.131014Z"
    }
   },
   "outputs": [
    {
     "name": "stdout",
     "output_type": "stream",
     "text": [
      "torch.Size([2, 1024, 20])\n"
     ]
    }
   ],
   "source": [
    "sample_inputs, sample_outputs = next(iter(val_loader))\n",
    "\n",
    "sample_inputs.requires_grad_()\n",
    "sample_inputs = sample_inputs[:2].to(\"cuda\")\n",
    "print(sample_inputs.shape)"
   ]
  },
  {
   "cell_type": "code",
   "execution_count": 16,
   "metadata": {
    "execution": {
     "iopub.execute_input": "2024-03-13T15:42:40.977626Z",
     "iopub.status.busy": "2024-03-13T15:42:40.977079Z",
     "iopub.status.idle": "2024-03-13T15:42:42.914586Z",
     "shell.execute_reply": "2024-03-13T15:42:42.913747Z",
     "shell.execute_reply.started": "2024-03-13T15:42:40.977589Z"
    }
   },
   "outputs": [],
   "source": [
    "attr, delta = ig.attribute(sample_inputs,target =1, return_convergence_delta=True)\n",
    "attr = attr.detach().cpu().numpy()"
   ]
  },
  {
   "cell_type": "code",
   "execution_count": 17,
   "metadata": {
    "execution": {
     "iopub.execute_input": "2024-03-13T15:42:42.916897Z",
     "iopub.status.busy": "2024-03-13T15:42:42.916537Z",
     "iopub.status.idle": "2024-03-13T15:42:42.924246Z",
     "shell.execute_reply": "2024-03-13T15:42:42.923243Z",
     "shell.execute_reply.started": "2024-03-13T15:42:42.916862Z"
    }
   },
   "outputs": [],
   "source": [
    "def visualize_importances(feature_names, importances, title=\"Average Feature Importances\", plot=True, axis_title=\"Features\"):\n",
    "    print(title)\n",
    "    for i in range(len(feature_names)):\n",
    "        print(feature_names[i], \": \", '%.3f'%(importances[i]))\n",
    "    x_pos = (np.arange(len(feature_names)))\n",
    "    if plot:\n",
    "        plt.figure(figsize=(12,6))\n",
    "        plt.bar(x_pos, importances, align='center')\n",
    "        plt.xticks(x_pos, feature_names, wrap=True)\n",
    "        plt.xlabel(axis_title)\n",
    "        plt.title(title)"
   ]
  },
  {
   "cell_type": "code",
   "execution_count": 22,
   "metadata": {
    "execution": {
     "iopub.execute_input": "2024-03-13T15:45:13.060696Z",
     "iopub.status.busy": "2024-03-13T15:45:13.059994Z",
     "iopub.status.idle": "2024-03-13T15:45:13.065195Z",
     "shell.execute_reply": "2024-03-13T15:45:13.064195Z",
     "shell.execute_reply.started": "2024-03-13T15:45:13.060661Z"
    }
   },
   "outputs": [],
   "source": [
    "from captum.attr import LayerGradCam, FeatureAblation, LayerActivation, LayerAttribution"
   ]
  },
  {
   "cell_type": "code",
   "execution_count": 34,
   "metadata": {
    "execution": {
     "iopub.execute_input": "2024-03-13T15:48:25.167613Z",
     "iopub.status.busy": "2024-03-13T15:48:25.166599Z",
     "iopub.status.idle": "2024-03-13T15:48:25.172473Z",
     "shell.execute_reply": "2024-03-13T15:48:25.171380Z",
     "shell.execute_reply.started": "2024-03-13T15:48:25.167573Z"
    }
   },
   "outputs": [],
   "source": [
    "lgc = LayerGradCam(aggregate_predictions, model.conv1)\n"
   ]
  },
  {
   "cell_type": "code",
   "execution_count": 35,
   "metadata": {
    "execution": {
     "iopub.execute_input": "2024-03-13T15:48:25.533266Z",
     "iopub.status.busy": "2024-03-13T15:48:25.532905Z",
     "iopub.status.idle": "2024-03-13T15:48:25.543369Z",
     "shell.execute_reply": "2024-03-13T15:48:25.542538Z",
     "shell.execute_reply.started": "2024-03-13T15:48:25.533235Z"
    }
   },
   "outputs": [],
   "source": [
    "gc_attr = lgc.attribute(sample_inputs, target=1)"
   ]
  },
  {
   "cell_type": "code",
   "execution_count": 36,
   "metadata": {
    "execution": {
     "iopub.execute_input": "2024-03-13T15:48:26.156528Z",
     "iopub.status.busy": "2024-03-13T15:48:26.155907Z",
     "iopub.status.idle": "2024-03-13T15:48:26.160734Z",
     "shell.execute_reply": "2024-03-13T15:48:26.159632Z",
     "shell.execute_reply.started": "2024-03-13T15:48:26.156495Z"
    }
   },
   "outputs": [],
   "source": [
    "from captum.attr import visualization as viz"
   ]
  },
  {
   "cell_type": "code",
   "execution_count": 37,
   "metadata": {
    "execution": {
     "iopub.execute_input": "2024-03-13T15:48:26.378144Z",
     "iopub.status.busy": "2024-03-13T15:48:26.377240Z",
     "iopub.status.idle": "2024-03-13T15:48:26.383635Z",
     "shell.execute_reply": "2024-03-13T15:48:26.382640Z",
     "shell.execute_reply.started": "2024-03-13T15:48:26.378105Z"
    }
   },
   "outputs": [
    {
     "data": {
      "text/plain": [
       "torch.Size([2, 1, 1024, 20])"
      ]
     },
     "execution_count": 37,
     "metadata": {},
     "output_type": "execute_result"
    }
   ],
   "source": [
    "gc_attr.shape"
   ]
  },
  {
   "cell_type": "code",
   "execution_count": 38,
   "metadata": {
    "execution": {
     "iopub.execute_input": "2024-03-13T15:48:26.590889Z",
     "iopub.status.busy": "2024-03-13T15:48:26.590478Z",
     "iopub.status.idle": "2024-03-13T15:48:26.803382Z",
     "shell.execute_reply": "2024-03-13T15:48:26.802368Z",
     "shell.execute_reply.started": "2024-03-13T15:48:26.590853Z"
    }
   },
   "outputs": [
    {
     "data": {
      "image/png": "[encoded data removed]",
      "text/plain": [
       "<Figure size 600x600 with 1 Axes>"
      ]
     },
     "metadata": {},
     "output_type": "display_data"
    },
    {
     "data": {
      "text/plain": [
       "(<Figure size 600x600 with 1 Axes>, <Axes: >)"
      ]
     },
     "execution_count": 38,
     "metadata": {},
     "output_type": "execute_result"
    }
   ],
   "source": [
    "viz.visualize_image_attr(gc_attr[0].cpu().permute(1,2,0).detach().numpy(),sign=\"all\")"
   ]
  },
  {
   "cell_type": "code",
   "execution_count": null,
   "metadata": {},
   "outputs": [],
   "source": [
    "plt.plot(metrics[0], label = \"Train Loss\")\n",
    "plt.plot(metrics[2], label = \"Validation Loss\")\n",
    "plt.xlabel(\"Epochs\")\n",
    "plt.ylabel(\"Loss\")\n",
    "plt.legend()\n",
    "plt.title(\"Loss Plot\");\n",
    "plt.show()"
   ]
  },
  {
   "cell_type": "code",
   "execution_count": null,
   "metadata": {},
   "outputs": [],
   "source": [
    "plt.plot(metrics[1], label = \"Train Accuracy\")\n",
    "plt.plot(metrics[3], label = \"Validation Accuracy\")\n",
    "plt.xlabel(\"Epochs\")\n",
    "plt.ylabel(\"Loss\")\n",
    "plt.legend()\n",
    "plt.title(\"Accuracy Plot\");\n",
    "plt.show()"
   ]
  },
  {
   "cell_type": "code",
   "execution_count": null,
   "metadata": {},
   "outputs": [],
   "source": [
    "cm_data = confusion_matrix(y_preds, y_labels)\n",
    "cm = pd.DataFrame(cm_data, columns=CLASS_LABELS, index = CLASS_LABELS)\n",
    "cm.index.name = 'Actual'\n",
    "cm.columns.name = 'Predicted'\n",
    "plt.figure(figsize = (8,5))\n",
    "plt.title('Confusion Matrix', fontsize = 20)\n",
    "sns.set(font_scale=1.2)\n",
    "ax = sns.heatmap(cm, cbar=False, cmap=\"Blues\", annot=True, annot_kws={\"size\": 16}, fmt='g')"
   ]
  },
  {
   "cell_type": "code",
   "execution_count": null,
   "metadata": {},
   "outputs": [],
   "source": [
    "print(classification_report(y_preds, y_labels))"
   ]
  },
  {
   "cell_type": "markdown",
   "metadata": {},
   "source": [
    "# Test Set Submission "
   ]
  },
  {
   "cell_type": "code",
   "execution_count": null,
   "metadata": {},
   "outputs": [],
   "source": [
    "def infer_test(model, test_loader):\n",
    "    combined_out = []\n",
    "    model.eval()\n",
    "    with torch.no_grad():\n",
    "        for inputs in test_loader:\n",
    "            if config.GPU:\n",
    "                inputs = inputs.to(\"cuda\")\n",
    "            outputs = model(inputs)\n",
    "\n",
    "            combined_out.append(outputs.argmax(1))\n",
    "    return torch.concat(combined_out).cpu().numpy()\n",
    "\n",
    "def generate_submission(main_test_df, test_preds, sample_sub_path = f\"{config.INPUT_DIR}sample.csv\"):\n",
    "    groupby_df = main_test_df.groupby(\"PDB_ID\")\n",
    "    ids = []\n",
    "    targets = []\n",
    "    for (idx, key) in enumerate(list(groupby_df.groups.keys())):\n",
    "        df = groupby_df.get_group(key)\n",
    "        ids.extend(f\"{key}_{i}\" for i in range(1, 1 + len(df)  ))\n",
    "        targets.extend([test_preds[idx][:len(df)].tolist()][0])\n",
    "\n",
    "    target_dict = {idd:target for idd,target in zip(ids, targets)}\n",
    "    sample = pd.read_csv(sample_sub_path)\n",
    "    sample[\"STRUCTURE\"] = sample[\"ID\"].map(target_dict).map(reverse_target_map)\n",
    "    return sample\n",
    "\n",
    "\n",
    "test_preds = infer_test(model, test_loader)\n",
    "submission = generate_submission(main_test_df, test_preds, \"/kaggle/input/deep-learning-for-msc-202324/sample.csv\")\n",
    "submission.to_csv(\"submission.csv\", index = False)\n",
    "submission.head()"
   ]
  }
 ],
 "metadata": {
  "kaggle": {
   "accelerator": "gpu",
   "dataSources": [
    {
     "databundleVersionId": 7709659,
     "sourceId": 68978,
     "sourceType": "competition"
    }
   ],
   "dockerImageVersionId": 30665,
   "isGpuEnabled": true,
   "isInternetEnabled": true,
   "language": "python",
   "sourceType": "notebook"
  },
  "kernelspec": {
   "display_name": "Python 3 (ipykernel)",
   "language": "python",
   "name": "python3"
  },
  "language_info": {
   "codemirror_mode": {
    "name": "ipython",
    "version": 3
   },
   "file_extension": ".py",
   "mimetype": "text/x-python",
   "name": "python",
   "nbconvert_exporter": "python",
   "pygments_lexer": "ipython3",
   "version": "3.11.4"
  }
 },
 "nbformat": 4,
 "nbformat_minor": 4
}
